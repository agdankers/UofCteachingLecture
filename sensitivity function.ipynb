{
 "cells": [
  {
   "cell_type": "markdown",
   "id": "fdedff96",
   "metadata": {
    "slideshow": {
     "slide_type": "slide"
    }
   },
   "source": [
    "# Sensitivity and Complementary Sensitivtiy Functions\n",
    "## today's objectives: \n",
    "- recall  main advantages of feedback\n",
    "- derive and understand main feedback equation\n",
    "\n",
    "## Assume:\n",
    "- transfer function representation of a system\n",
    "- working knowledge of bode plots"
   ]
  },
  {
   "cell_type": "markdown",
   "id": "2ad441ab",
   "metadata": {
    "slideshow": {
     "slide_type": "slide"
    }
   },
   "source": [
    "# Notation"
   ]
  },
  {
   "cell_type": "markdown",
   "id": "dde0024f",
   "metadata": {
    "cell_style": "split",
    "slideshow": {
     "slide_type": "fragment"
    }
   },
   "source": [
    "![openloop](openloop.png \"Open-Loop\")\n",
    "\n",
    "- $P$: plant (system)\n",
    "- $u$: input (variable can be manipulated)\n",
    "- $y$: output (variable to be controlled)\n",
    "- $d$: disturbance (affects value of output)"
   ]
  },
  {
   "cell_type": "markdown",
   "id": "22f58385",
   "metadata": {
    "cell_style": "split",
    "slideshow": {
     "slide_type": "fragment"
    }
   },
   "source": [
    "![feedbackloop](feedbackloop.png \"Feedback\")\n",
    "\n",
    "- $K$: controller\n",
    "- $r$: reference signal (desired output)\n",
    "- $n$: measurement noise (error in measurement)\n",
    "- $y_m$: measured output\n"
   ]
  },
  {
   "cell_type": "markdown",
   "id": "e1951a4e",
   "metadata": {
    "slideshow": {
     "slide_type": "fragment"
    }
   },
   "source": [
    "# Why feedback?\n",
    "\n",
    "\n",
    "\n",
    "\n",
    "\n",
    "\n",
    "\n",
    "\n"
   ]
  },
  {
   "cell_type": "markdown",
   "id": "9a1c9ab5",
   "metadata": {
    "cell_style": "center",
    "slideshow": {
     "slide_type": "fragment"
    }
   },
   "source": [
    "![AttaboticsThunderdome](attabotics-thunderdome.png \"Attabotics Thunderdome\")"
   ]
  },
  {
   "cell_type": "markdown",
   "id": "09a61622",
   "metadata": {
    "slideshow": {
     "slide_type": "fragment"
    }
   },
   "source": [
    "- Ability to follow desired signals\n",
    "- Stability (design)\n",
    "- Reduction of effects of process noise / load disturbances (noise rejection, compensation)\n",
    "- Reduction of effects of model uncertainties\n",
    "- Efficiency (design)"
   ]
  },
  {
   "cell_type": "code",
   "execution_count": null,
   "id": "8b328fbb",
   "metadata": {
    "slideshow": {
     "slide_type": "fragment"
    }
   },
   "outputs": [],
   "source": [
    "import control as ct\n",
    "import numpy as np\n",
    "import controls_teaching_lecture_utilities as cu"
   ]
  },
  {
   "cell_type": "code",
   "execution_count": null,
   "id": "c885d74d",
   "metadata": {
    "scrolled": false,
    "slideshow": {
     "slide_type": "fragment"
    }
   },
   "outputs": [],
   "source": [
    "# Very simple model of a car (input = gas pedal, output = speed of car)\n",
    "s = ct.tf('s')\n",
    "P = 1/(s+1)\n",
    "\n",
    "# Controller (for cruise control)\n",
    "K = 5*(s+1)/s\n",
    "\n",
    "# Reference, disturbance and measurement noise signals\n",
    "t = np.linspace(0, 50, 101)\n",
    "r = [0 if ti <= 5 else\n",
    "     80 if ti <= 30 else\n",
    "     100 for ti in t]\n",
    "r = np.array(r)\n",
    "d = np.zeros(101)\n",
    "n = np.random.randn(101)\n",
    "\n",
    "# simulate closed-loop and open-loop models for selected reference, disturbance and measurement noise signals\n",
    "y_closed_loop, u_closed_loop = cu.sim_closed_loop(P,K,t,r,d,n)\n",
    "y_open_loop = cu.sim_open_loop(P,t,r,d)\n",
    "\n",
    "# plot results\n",
    "cu.make_open_and_closed_loop_plots(t,r,d,n,y_closed_loop,y_open_loop)"
   ]
  },
  {
   "cell_type": "markdown",
   "id": "9f059b4d",
   "metadata": {
    "slideshow": {
     "slide_type": "fragment"
    }
   },
   "source": [
    "# Effect of disturbance (open-loop vs closed-loop)"
   ]
  },
  {
   "cell_type": "code",
   "execution_count": null,
   "id": "406971a1",
   "metadata": {
    "slideshow": {
     "slide_type": "fragment"
    }
   },
   "outputs": [],
   "source": [
    "d_hill = 10*np.sin(t/100*np.pi*4)\n",
    "y_closed_loop, u_closed_loop = cu.sim_closed_loop(P,K,t,r,d_hill,n)\n",
    "y_open_loop = cu.sim_open_loop(P,t,r,d_hill)\n",
    "\n",
    "cu.make_open_and_closed_loop_plots(t,r,d_hill,n,y_closed_loop,y_open_loop)"
   ]
  },
  {
   "cell_type": "markdown",
   "id": "2019bf1b",
   "metadata": {
    "slideshow": {
     "slide_type": "fragment"
    }
   },
   "source": [
    "# Effect of uncertainty in the model (open-loop vs closed-loop)"
   ]
  },
  {
   "cell_type": "code",
   "execution_count": null,
   "id": "41f4d22f",
   "metadata": {
    "slideshow": {
     "slide_type": "fragment"
    }
   },
   "outputs": [],
   "source": [
    "P_changed = 0.95/(s+1)\n",
    "y_closed_loop, u_closed_loop = cu.sim_closed_loop(P_changed,K,t,r,d,n)\n",
    "y_open_loop = cu.sim_open_loop(P_changed,t,r,d)\n",
    "    \n",
    "cu.make_open_and_closed_loop_plots(t,r,d,n,y_closed_loop,y_open_loop)"
   ]
  },
  {
   "cell_type": "markdown",
   "id": "6e491375",
   "metadata": {
    "cell_style": "center",
    "slideshow": {
     "slide_type": "slide"
    }
   },
   "source": [
    "# The Feedback Equation!"
   ]
  },
  {
   "cell_type": "markdown",
   "id": "0f755f1c",
   "metadata": {
    "cell_style": "center",
    "slideshow": {
     "slide_type": "fragment"
    }
   },
   "source": [
    "![feedbackloop](feedbackloop.png \"Feedback\")"
   ]
  },
  {
   "cell_type": "markdown",
   "id": "5296ffa5",
   "metadata": {
    "cell_style": "center",
    "slideshow": {
     "slide_type": "fragment"
    }
   },
   "source": [
    "$$\n",
    "\\begin{align}\n",
    "y(s) &= P(s) \\Big( u(s) + d(s) \\Big) \\\\\n",
    "&= P(s)K(s) \\Big( r(s) - y_m(s) \\Big ) + P(s)d(s) \\\\\n",
    "&= P(s)K(s) r(s) - P(s)K(s) y_m(s) + P(s)d(s) \\\\\n",
    "&= P(s)K(s)r(s) - P(s)K(s)\\Big(y(s) + n(s)\\Big) + P(s)d(s) \\\\\n",
    "&= P(s)K(s)r(s) - P(s)K(s)y(s)  - P(s)K(s) n(s)+ P(s)d(s) \\\\\n",
    "&= \\frac{P(s)K(s)}{1+P(s)K(s)} r(s) - \\frac{P(s)K(s)}{1+P(s)K(s)}n(s) + \\frac{P(s)}{1+P(s)K(s)}d(s)\n",
    "\\end{align}\n",
    "$$"
   ]
  },
  {
   "cell_type": "markdown",
   "id": "178018d6",
   "metadata": {
    "cell_style": "split",
    "slideshow": {
     "slide_type": "fragment"
    }
   },
   "source": [
    "Loop transfer function:\n",
    "\n",
    "$$L(s) = P(s)K(s)$$\n",
    "\n",
    "Sensitivity Function:\n",
    "\n",
    "$$S(s) = \\frac{1}{1+P(s)K(s)} = \\frac{1}{1 + L}$$ \n",
    "\n",
    "Complementary Sensitivity Function:\n",
    "\n",
    "$$T(s) = \\frac{P(s)K(s)}{1+P(s)K(s)} = \\frac{L}{1+L}$$ \n",
    "\n",
    "Interesting property:\n",
    "\n",
    "$$S(s) + T(s) = 1$$"
   ]
  },
  {
   "cell_type": "markdown",
   "id": "3a97e51e",
   "metadata": {
    "cell_style": "split",
    "slideshow": {
     "slide_type": "fragment"
    }
   },
   "source": [
    "Feedback equation becomes:\n",
    "\n",
    "$$y(s) = T(s)r(s) - T(s)n(s) + S(s)P(s)d(s)$$\n",
    "\n",
    "In terms of tracking error:\n",
    "\n",
    "$$\n",
    "\\begin{align}\n",
    "\\varepsilon(s) &= r(s) - y(s) \\\\\n",
    "&= r(s) -  T(s)r(s) - T(s)n(s) - S(s)P(s)d(s) \\\\\n",
    "&= S(s)r(s) + T(s)n(s) - S(s)P(s)d(s)\n",
    "\\end{align}\n",
    "$$"
   ]
  },
  {
   "cell_type": "markdown",
   "id": "e3b20958",
   "metadata": {
    "slideshow": {
     "slide_type": "fragment"
    }
   },
   "source": [
    "Observations:\n",
    "- $S(s)$ determines the error due to not tracking $r$ \n",
    "- $S(s)$ determines the error due to process disturbances $d$\n",
    "- $T(s)$ determines the error due to measurement noise $n$\n",
    "\n",
    "# We want both $S(s)$ and $T(s)$ to be small!!\n",
    "# However recall $S(s) + T(s) = 1$. \n"
   ]
  },
  {
   "cell_type": "markdown",
   "id": "b8f5e496",
   "metadata": {
    "slideshow": {
     "slide_type": "slide"
    }
   },
   "source": [
    "# Let's design $K$! (Idea 1)"
   ]
  },
  {
   "cell_type": "markdown",
   "id": "7fe1fac0",
   "metadata": {
    "slideshow": {
     "slide_type": "fragment"
    }
   },
   "source": [
    "There are several possibilities to obtain this desired behaviour:\n",
    "\n",
    "choose $K$ as a (large) constant.\n",
    "\n",
    "$$\\varepsilon(s) = \\frac{1}{1+K(s)P(s)}r(s) - \\frac{K(s)P(s)}{1+K(s)P(s)}n(s) - \\frac{P(s)}{1+K(s)P(s)}d(s)$$\n",
    "\n",
    "Future topic: PID control"
   ]
  },
  {
   "cell_type": "markdown",
   "id": "09258210",
   "metadata": {
    "slideshow": {
     "slide_type": "slide"
    }
   },
   "source": [
    "# Your Turn!"
   ]
  },
  {
   "cell_type": "code",
   "execution_count": null,
   "id": "a406f16c",
   "metadata": {
    "slideshow": {
     "slide_type": "fragment"
    }
   },
   "outputs": [],
   "source": [
    "import control as ct\n",
    "import numpy as np\n",
    "import controls_teaching_lecture_utilities as cu\n",
    "s = ct.tf('s')\n",
    "\n",
    "# Reference, disturbance and measurement noise signals\n",
    "t = np.linspace(0, 50, 101)\n",
    "r = [0 if ti <= 5 else\n",
    "     80 if ti <= 30 else\n",
    "     100 for ti in t]\n",
    "r = np.array(r)\n",
    "d = np.zeros(101)\n",
    "n = np.random.randn(101)\n",
    "\n",
    "# Liquid levels example from \"Modern Control Engineering \", by Katsuhiko Ogata \n",
    "\n",
    "R = 100 #sec/m^2\n",
    "C = 1/5 #m^2 (cross sectional area of tank)\n",
    "\n",
    "P_liquid_level = 1/(R*C*s + 1)\n",
    "\n",
    "# try different controllers\n",
    "K = 50\n",
    "\n",
    "\n",
    "y, u = cu.sim_closed_loop(P_liquid_level,K,t,r,d,n)\n",
    "cu.make_closed_loop_plots(t,r,d,n,y,u)"
   ]
  },
  {
   "cell_type": "markdown",
   "id": "d3a2147c",
   "metadata": {
    "slideshow": {
     "slide_type": "slide"
    }
   },
   "source": [
    "# Assignment\n",
    "\n",
    "For each of the following 3 systems:\n",
    "1. Design 2 possible controllers (using what you learned in this lecture)\n",
    "2. Choose 3 different scenarios (different disturbances, reference signals, levels of measurement noise)\n",
    "3. Simulate the different senarios\n",
    "4. Evaluate/analyze their performance based on the output and input of the plant.\n",
    "5. Make a recommendation as to which of the two selected controllers is better\n",
    "\n",
    "Main objective of assignment is to develop insight into the feedback equation, and how it is tied to the control objectives, not to design a good controller."
   ]
  },
  {
   "cell_type": "markdown",
   "id": "c00d2762",
   "metadata": {
    "slideshow": {
     "slide_type": "fragment"
    }
   },
   "source": [
    "![question-hydraulic](question-hydraulic.png \"Question Hydraulic\")"
   ]
  },
  {
   "cell_type": "code",
   "execution_count": null,
   "id": "b84c5bc5",
   "metadata": {
    "slideshow": {
     "slide_type": "fragment"
    }
   },
   "outputs": [],
   "source": [
    "# Liquid levels example from \"Modern Control Engineering \" by Katsuhiko Ogata, page 93\n",
    "P_liquid_level = 1/(R*C*s + 1)"
   ]
  },
  {
   "cell_type": "markdown",
   "id": "540100f1",
   "metadata": {
    "slideshow": {
     "slide_type": "fragment"
    }
   },
   "source": [
    "![question-mech](question-mech.png \"Question Mechanical\")"
   ]
  },
  {
   "cell_type": "code",
   "execution_count": null,
   "id": "218479db",
   "metadata": {
    "slideshow": {
     "slide_type": "fragment"
    }
   },
   "outputs": [],
   "source": [
    "# Mechanical system example from \"Modern Control Engineering \" by Katsuhiko Ogata, page 83\n",
    "P_mechanical = (b*s + k)/(m*s**2 + b*s + k)"
   ]
  },
  {
   "cell_type": "markdown",
   "id": "d1e55749",
   "metadata": {
    "slideshow": {
     "slide_type": "fragment"
    }
   },
   "source": [
    "![question-elec](question-elec.png \"Question Electrical\")"
   ]
  },
  {
   "cell_type": "code",
   "execution_count": null,
   "id": "996f2259",
   "metadata": {
    "slideshow": {
     "slide_type": "fragment"
    }
   },
   "outputs": [],
   "source": [
    "# Electrical system example from \"Modern Control Engineering \" by Katsuhiko Ogata, page 90\n",
    "P_electrical = 1/(R1*C1*R2*C2*s**2 + (R1*C1 + R2*C2 + R1*C2)*s + 1)"
   ]
  },
  {
   "cell_type": "code",
   "execution_count": null,
   "id": "47e33938",
   "metadata": {},
   "outputs": [],
   "source": []
  },
  {
   "cell_type": "markdown",
   "id": "7112114c",
   "metadata": {
    "slideshow": {
     "slide_type": "skip"
    }
   },
   "source": [
    "# Material for next lecture"
   ]
  },
  {
   "cell_type": "markdown",
   "id": "652867c2",
   "metadata": {
    "slideshow": {
     "slide_type": "skip"
    }
   },
   "source": [
    "# Balancing Priorities"
   ]
  },
  {
   "cell_type": "markdown",
   "id": "7747fb35",
   "metadata": {
    "slideshow": {
     "slide_type": "skip"
    }
   },
   "source": [
    "$$\\varepsilon(s) =S(s)r(s) + T(s)n(s) - S(s)P(s)d(s)$$"
   ]
  },
  {
   "cell_type": "markdown",
   "id": "d78e8271",
   "metadata": {
    "slideshow": {
     "slide_type": "skip"
    }
   },
   "source": [
    "![FrequencyDomainRepresentationDesiredSensitivity](sensitivityBode.png \"Frequency Domain Representation of Desirable Sensitivity Function\")"
   ]
  },
  {
   "cell_type": "markdown",
   "id": "1961550c",
   "metadata": {
    "slideshow": {
     "slide_type": "skip"
    }
   },
   "source": [
    "# That is great insight!\n",
    "# However, how does this help us? Our ''tuning knob'' is the controller K..."
   ]
  },
  {
   "cell_type": "code",
   "execution_count": null,
   "id": "e390ec1b",
   "metadata": {
    "scrolled": false,
    "slideshow": {
     "slide_type": "skip"
    }
   },
   "outputs": [],
   "source": [
    "L = 1/s\n",
    "\n",
    "S = 1/(1+L)\n",
    "T = L/(1+L)\n",
    "mag, phase, omega = bode([S, T], dB=True, plot=False)\n",
    "\n",
    "fig, ax = plt.subplots(1,1, figsize = [10,5])\n",
    "ax.semilogx(omega[0],[20*math.log10(x) for x in mag[0]], label='Sensitivity Function')\n",
    "ax.semilogx(omega[1],[20*math.log10(x) for x in mag[1]], label='Complementary Sensitivity Function')\n",
    "#ax.semilogx(omega[0],mag[0], label='Sensitivity Function')\n",
    "#ax.semilogx(omega[1],mag[1], label='Complementary Sensitivity Function')\n",
    "ax.set_xlabel('Frequency (rad/s)')\n",
    "ax.set_ylabel('Magnitude (dB)')\n",
    "ax.set_title('Bode Plot')\n",
    "plt.legend(bbox_to_anchor=(1.05,1), borderaxespad=0)\n",
    "plt.show()"
   ]
  },
  {
   "cell_type": "markdown",
   "id": "49a92aaf",
   "metadata": {
    "slideshow": {
     "slide_type": "skip"
    }
   },
   "source": [
    "# How does $K$ affect frequency response of $S$ and $T$?\n",
    "\n",
    "$$\n",
    "\\begin{align}\n",
    "S(s) &= \\frac{1}{1+L(s)}  = \\frac{1}{1+P(s)K(s)} \\\\\n",
    "T(s) &= \\frac{L(s)}{1+L(s)} = \\frac{P(s)K(s)}{1+P(s)K(s)}  \n",
    "\\end{align}\n",
    "$$"
   ]
  },
  {
   "cell_type": "code",
   "execution_count": null,
   "id": "3edda987",
   "metadata": {
    "slideshow": {
     "slide_type": "skip"
    }
   },
   "outputs": [],
   "source": [
    "L = 1/s\n",
    "\n",
    "S = 1/(1+L)\n",
    "T = L/(1+L)\n",
    "mag, phase, omega = bode([S, T, L], dB=True, plot=False)\n",
    "\n",
    "\n",
    "\n",
    "fig, ax = plt.subplots(1,1, figsize = [10,5])\n",
    "ax.semilogx(omega[0],[20*math.log10(x) for x in mag[0]], label='Sensitivity Function')\n",
    "ax.semilogx(omega[1],[20*math.log10(x) for x in mag[1]], label='Complementary Sensitivity Function')\n",
    "ax.semilogx(omega[2],[20*math.log10(x) for x in mag[2]], label='Loop Transfer Function')\n",
    "#ax.semilogx(omega[0],mag[0], label='Sensitivity Function')\n",
    "#ax.semilogx(omega[1],mag[1], label='Complementary Sensitivity Function')\n",
    "ax.set_xlabel('Frequency (rad/s)')\n",
    "ax.set_ylabel('Magnitude (dB)')\n",
    "ax.set_title('Bode Plot')\n",
    "plt.legend(bbox_to_anchor=(1.05,1), borderaxespad=0)\n",
    "#ax.grid(True)\n",
    "plt.show()"
   ]
  },
  {
   "cell_type": "markdown",
   "id": "640a2126",
   "metadata": {
    "slideshow": {
     "slide_type": "skip"
    }
   },
   "source": [
    "![FrequencyDomainRepresentationDesiredLoop](desiredLoopTF.png \"Frequency Domain Representation of Desirable Loop Function\")"
   ]
  },
  {
   "cell_type": "markdown",
   "id": "a0c43416",
   "metadata": {
    "slideshow": {
     "slide_type": "skip"
    }
   },
   "source": [
    "# Let's design $K$! (Idea 2)\n",
    "\n",
    "![FrequencyDomainRepresentationDesiredLoop](desiredLoopTF.png \"Frequency Domain Representation of Desirable Loop Function\")"
   ]
  },
  {
   "cell_type": "markdown",
   "id": "addde892",
   "metadata": {
    "slideshow": {
     "slide_type": "skip"
    }
   },
   "source": [
    "One possible loop transfer function that has our desired behaviour:\n",
    "\n",
    "$$L(s) = \\frac{1}{s}$$\n",
    "\n",
    "(recall that this is the TF of an integrator)\n",
    "\n",
    "But \n",
    "$$L(s) = K(s)P(s)$$\n",
    "so can we solve for K?\n",
    "\n",
    "Future topic: pole placement"
   ]
  }
 ],
 "metadata": {
  "celltoolbar": "Slideshow",
  "kernelspec": {
   "display_name": "Python 3 (ipykernel)",
   "language": "python",
   "name": "python3"
  },
  "language_info": {
   "codemirror_mode": {
    "name": "ipython",
    "version": 3
   },
   "file_extension": ".py",
   "mimetype": "text/x-python",
   "name": "python",
   "nbconvert_exporter": "python",
   "pygments_lexer": "ipython3",
   "version": "3.7.13"
  },
  "rise": {
   "enable_chalkboard": true,
   "scroll": true
  }
 },
 "nbformat": 4,
 "nbformat_minor": 5
}
